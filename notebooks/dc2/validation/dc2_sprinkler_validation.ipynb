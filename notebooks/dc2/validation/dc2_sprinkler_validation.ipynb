{
 "cells": [
  {
   "cell_type": "markdown",
   "metadata": {},
   "source": [
    "# DC2 Sprinkler Validation Tests"
   ]
  },
  {
   "cell_type": "markdown",
   "metadata": {},
   "source": [
    "The most recent Sprinkler Truth Catalogs are in `/global/cscratch1/sd/brycek/example_truth`.\n",
    "\n",
    "Unlensed SNe population are in: `/global/projecta/projectdirs/lsst/groups/SSim/DC2/cosmoDC2_v1.1.4/sne_cosmoDC2_v1.1.4_MS_DDF.db`"
   ]
  },
  {
   "cell_type": "code",
   "execution_count": 13,
   "metadata": {},
   "outputs": [],
   "source": [
    "import os\n",
    "import numpy as np\n",
    "import pandas as pd\n",
    "import sqlite3\n",
    "import matplotlib.pyplot as plt\n",
    "from astropy.io import fits\n",
    "%matplotlib inline"
   ]
  },
  {
   "cell_type": "markdown",
   "metadata": {},
   "source": [
    "## Lensed AGN validation tests"
   ]
  },
  {
   "cell_type": "code",
   "execution_count": 14,
   "metadata": {},
   "outputs": [],
   "source": [
    "hdulist = fits.open('/global/cscratch1/sd/brycek/om10_qso_mock.fits')\n",
    "om10_data = hdulist[1].data"
   ]
  },
  {
   "cell_type": "code",
   "execution_count": 15,
   "metadata": {},
   "outputs": [
    {
     "data": {
      "text/plain": [
       "FITS_rec([(14428, 0, 2, 0.062, 264.2409, 0.2182095,  86.19403, 0.04307117, -172.995 , 4.01, -0.8669144, 0.2832836, 22.81, 22.94768, 3.858949, [ 0.9541, -2.7414,  0.    ,  0.    ], [-0.2678,  0.8434,  0.    ,  0.    ], [-0.8809,  3.8125,  0.    ,  0.    ], [26.034,  0.   ,  0.   ,  0.   ], [0., 0., 0., 0.], [0., 0., 0., 0.], 246.488327, 278.000397, -22.8653774, 14.4168491, 0.062, 1432.53, 1380.28, 0., 35956.6, 0., 0., 0.),\n",
       "          (21703, 0, 2, 0.072, 165.1962, 0.286398 , 131.0021 , 0.06827481, -174.4367, 1.19, -0.4895263, 0.23893  , 22.55, 23.27365, 1.553578, [-1.2262,  0.1993,  0.    ,  0.    ], [ 0.5434, -0.0743,  0.    ,  0.    ], [ 1.8811, -0.5135,  0.    ,  0.    ], [ 0.   ,  7.601,  0.   ,  0.   ], [0., 0., 0., 0.], [0., 0., 0., 0.], 282.910126, 325.115814, -21.6407204, 15.9914694, 0.072, 1708.45, 1569.97, 0.,  8193.9, 0., 0., 0.),\n",
       "          (31711, 0, 2, 0.082, 155.9553, 0.2997531, -19.01642, 0.05930104, -120.289 , 4.01,  0.1881534, 0.1275117, 22.51, 21.93714, 1.339839, [-0.3014,  0.817 ,  0.    ,  0.    ], [-0.3255,  0.4123,  0.    ,  0.    ], [-1.6949,  3.3592,  0.    ,  0.    ], [ 3.11 ,  0.   ,  0.   ,  0.   ], [0., 0., 0., 0.], [0., 0., 0., 0.], 318.475311, 372.84671 , -21.497221 , 16.4424324, 0.082, 1432.53, 1363.75, 0., 35956.6, 0., 0., 0.)],\n",
       "         dtype=(numpy.record, [('LENSID', '>i4'), ('FLAGTYPE', '>i2'), ('NIMG', '>i2'), ('ZLENS', '>f8'), ('VELDISP', '>f8'), ('ELLIP', '>f8'), ('PHIE', '>f8'), ('GAMMA', '>f8'), ('PHIG', '>f8'), ('ZSRC', '>f8'), ('XSRC', '>f8'), ('YSRC', '>f8'), ('MAGI_IN', '>f8'), ('MAGI', '>f8'), ('IMSEP', '>f8'), ('XIMG', '>f8', (4,)), ('YIMG', '>f8', (4,)), ('MAG', '>f8', (4,)), ('DELAY', '>f8', (4,)), ('KAPPA', '>f8', (4,)), ('FSTAR', '>f8', (4,)), ('DD', '>f8'), ('DDLUM', '>f8'), ('ABMAG_I', '>f8'), ('APMAG_I', '>f8'), ('KCORR', '>f8'), ('DS', '>f8'), ('DDS', '>f8'), ('SIGCRIT', '>f8'), ('DSLUM', '>f8'), ('L_I', '>f8'), ('REFF', '>f8'), ('REFF_T', '>f8')]))"
      ]
     },
     "execution_count": 15,
     "metadata": {},
     "output_type": "execute_result"
    }
   ],
   "source": [
    "om10_data[:3]"
   ]
  },
  {
   "cell_type": "code",
   "execution_count": 16,
   "metadata": {},
   "outputs": [],
   "source": [
    "example_truth_folder = '/global/cscratch1/sd/brycek/example_truth'"
   ]
  },
  {
   "cell_type": "code",
   "execution_count": 17,
   "metadata": {},
   "outputs": [],
   "source": [
    "conn = sqlite3.connect(os.path.join(example_truth_folder, 'agn_truth.db'))\n",
    "\n",
    "# Pick only the first image of each SN so we don't have duplicate entries of the same SNe\n",
    "query = \"SELECT * FROM lensed_agn WHERE image_number == 0;\"\n",
    "\n",
    "# DDF unlensed SNe\n",
    "sprinkled_agn_df = pd.read_sql_query(query,conn)"
   ]
  },
  {
   "cell_type": "code",
   "execution_count": 18,
   "metadata": {},
   "outputs": [
    {
     "data": {
      "text/plain": [
       "Index(['index', 'unique_id', 'gal_unq_id', 'ra', 'dec', 'redshift', 't_delay',\n",
       "       'magnorm', 'magnification', 'seed', 'agn_tau_u', 'agn_tau_g',\n",
       "       'agn_tau_r', 'agn_tau_i', 'agn_tau_z', 'agn_tau_y', 'agn_sf_u',\n",
       "       'agn_sf_g', 'agn_sf_r', 'agn_sf_i', 'agn_sf_z', 'agn_sf_y',\n",
       "       'dc2_sys_id', 'lens_cat_sys_id', 'image_number'],\n",
       "      dtype='object')"
      ]
     },
     "execution_count": 18,
     "metadata": {},
     "output_type": "execute_result"
    }
   ],
   "source": [
    "sprinkled_agn_df.columns"
   ]
  },
  {
   "cell_type": "markdown",
   "metadata": {},
   "source": [
    "## Lensed SNe validation tests"
   ]
  },
  {
   "cell_type": "markdown",
   "metadata": {},
   "source": [
    "#### Load necessary files\n",
    "\n",
    "Unlensed SNe population files are in: `/global/projecta/projectdirs/lsst/groups/SSim/DC2/cosmoDC2_v1.1.4/` with filenames starting with `sne_cosmoDC2_v1.1.4*`"
   ]
  },
  {
   "cell_type": "code",
   "execution_count": 19,
   "metadata": {},
   "outputs": [],
   "source": [
    "cosmoDC2_base = '/global/projecta/projectdirs/lsst/groups/SSim/DC2/cosmoDC2_v1.1.4/'"
   ]
  },
  {
   "cell_type": "code",
   "execution_count": 20,
   "metadata": {},
   "outputs": [],
   "source": [
    "conn  = sqlite3.connect(os.path.join(cosmoDC2_base, 'sne_cosmoDC2_v1.1.4_MS_DDF.db'))\n",
    "query = \"SELECT * FROM sne_params;\"\n",
    "\n",
    "# Unlensed SNe\n",
    "unlensed_sne_df = pd.read_sql_query(query,conn)"
   ]
  },
  {
   "cell_type": "code",
   "execution_count": 21,
   "metadata": {},
   "outputs": [],
   "source": [
    "example_truth_folder = '/global/cscratch1/sd/brycek/example_truth'\n",
    "conn = sqlite3.connect(os.path.join(example_truth_folder, 'sne_truth.db'))\n",
    "\n",
    "# Pick only the first image of each SN so we don't have duplicate entries of the same SNe\n",
    "#query = \"SELECT * FROM lensed_sne WHERE image_number == 0;\"\n",
    "query = \"SELECT * FROM lensed_sne\"\n",
    "\n",
    "# DDF unlensed SNe\n",
    "sprinkled_sne_df = pd.read_sql_query(query,conn)"
   ]
  },
  {
   "cell_type": "markdown",
   "metadata": {},
   "source": [
    "### Input SNe catalog"
   ]
  },
  {
   "cell_type": "code",
   "execution_count": 22,
   "metadata": {},
   "outputs": [],
   "source": [
    "sn_catalog_sys = pd.read_hdf('/global/cscratch1/sd/brycek/glsne_cosmoDC2_v1.1.4.h5', key='system')\n",
    "sn_catalog_img = pd.read_hdf('/global/cscratch1/sd/brycek/glsne_cosmoDC2_v1.1.4.h5', key='image')"
   ]
  },
  {
   "cell_type": "code",
   "execution_count": 23,
   "metadata": {},
   "outputs": [
    {
     "name": "stdout",
     "output_type": "stream",
     "text": [
      "['/image', '/system', '/system/meta/values_block_2/meta', '/system/meta/values_block_1/meta', '/system/meta/values_block_0/meta']\n"
     ]
    }
   ],
   "source": [
    "# Checking the file to see what keys are available\n",
    "with pd.HDFStore('/global/cscratch1/sd/brycek/glsne_cosmoDC2_v1.1.4.h5') as hdf:\n",
    "    print(hdf.keys())"
   ]
  },
  {
   "cell_type": "code",
   "execution_count": 24,
   "metadata": {},
   "outputs": [
    {
     "data": {
      "text/html": [
       "<div>\n",
       "<style scoped>\n",
       "    .dataframe tbody tr th:only-of-type {\n",
       "        vertical-align: middle;\n",
       "    }\n",
       "\n",
       "    .dataframe tbody tr th {\n",
       "        vertical-align: top;\n",
       "    }\n",
       "\n",
       "    .dataframe thead th {\n",
       "        text-align: right;\n",
       "    }\n",
       "</style>\n",
       "<table border=\"1\" class=\"dataframe\">\n",
       "  <thead>\n",
       "    <tr style=\"text-align: right;\">\n",
       "      <th></th>\n",
       "      <th>t0</th>\n",
       "      <th>sigma</th>\n",
       "      <th>gamma</th>\n",
       "      <th>e</th>\n",
       "      <th>theta_e</th>\n",
       "      <th>theta_gamma</th>\n",
       "      <th>zs</th>\n",
       "      <th>zl</th>\n",
       "      <th>snx</th>\n",
       "      <th>sny</th>\n",
       "      <th>...</th>\n",
       "      <th>x0</th>\n",
       "      <th>lensgal_magnorm_u</th>\n",
       "      <th>lensgal_magnorm_g</th>\n",
       "      <th>lensgal_magnorm_r</th>\n",
       "      <th>lensgal_magnorm_i</th>\n",
       "      <th>lensgal_magnorm_z</th>\n",
       "      <th>lensgal_magnorm_y</th>\n",
       "      <th>lensgal_sed</th>\n",
       "      <th>lens_av</th>\n",
       "      <th>lens_rv</th>\n",
       "    </tr>\n",
       "  </thead>\n",
       "  <tbody>\n",
       "    <tr>\n",
       "      <td>0</td>\n",
       "      <td>62307.945863</td>\n",
       "      <td>197.670149</td>\n",
       "      <td>0.128101</td>\n",
       "      <td>0.570391</td>\n",
       "      <td>132.165475</td>\n",
       "      <td>135.210348</td>\n",
       "      <td>0.435736</td>\n",
       "      <td>0.152485</td>\n",
       "      <td>-0.136216</td>\n",
       "      <td>0.144903</td>\n",
       "      <td>...</td>\n",
       "      <td>0.000015</td>\n",
       "      <td>18.038430</td>\n",
       "      <td>17.934849</td>\n",
       "      <td>17.876297</td>\n",
       "      <td>17.853722</td>\n",
       "      <td>17.861106</td>\n",
       "      <td>17.841955</td>\n",
       "      <td>galaxySED/Inst.80E09.04Z.spec.gz</td>\n",
       "      <td>0.0</td>\n",
       "      <td>2.0</td>\n",
       "    </tr>\n",
       "    <tr>\n",
       "      <td>1</td>\n",
       "      <td>62986.222880</td>\n",
       "      <td>270.972759</td>\n",
       "      <td>0.040137</td>\n",
       "      <td>0.785929</td>\n",
       "      <td>349.848750</td>\n",
       "      <td>76.941654</td>\n",
       "      <td>0.812597</td>\n",
       "      <td>0.106528</td>\n",
       "      <td>0.229110</td>\n",
       "      <td>-0.578431</td>\n",
       "      <td>...</td>\n",
       "      <td>0.000003</td>\n",
       "      <td>17.736074</td>\n",
       "      <td>17.675464</td>\n",
       "      <td>17.672657</td>\n",
       "      <td>17.652261</td>\n",
       "      <td>17.663224</td>\n",
       "      <td>17.629555</td>\n",
       "      <td>galaxySED/Burst.10E10.04Z.spec.gz</td>\n",
       "      <td>0.0</td>\n",
       "      <td>2.0</td>\n",
       "    </tr>\n",
       "    <tr>\n",
       "      <td>2</td>\n",
       "      <td>60175.070270</td>\n",
       "      <td>168.759862</td>\n",
       "      <td>0.145709</td>\n",
       "      <td>0.704465</td>\n",
       "      <td>246.352212</td>\n",
       "      <td>103.154255</td>\n",
       "      <td>0.377906</td>\n",
       "      <td>0.036807</td>\n",
       "      <td>0.074938</td>\n",
       "      <td>-0.416329</td>\n",
       "      <td>...</td>\n",
       "      <td>0.000019</td>\n",
       "      <td>14.632392</td>\n",
       "      <td>14.521858</td>\n",
       "      <td>14.451894</td>\n",
       "      <td>14.419520</td>\n",
       "      <td>14.379628</td>\n",
       "      <td>14.347648</td>\n",
       "      <td>galaxySED/Exp.40E09.1Z.spec.gz</td>\n",
       "      <td>0.1</td>\n",
       "      <td>4.0</td>\n",
       "    </tr>\n",
       "    <tr>\n",
       "      <td>3</td>\n",
       "      <td>59748.557028</td>\n",
       "      <td>132.459490</td>\n",
       "      <td>0.017375</td>\n",
       "      <td>0.598633</td>\n",
       "      <td>58.483556</td>\n",
       "      <td>133.326378</td>\n",
       "      <td>0.760426</td>\n",
       "      <td>0.034289</td>\n",
       "      <td>0.012960</td>\n",
       "      <td>0.362303</td>\n",
       "      <td>...</td>\n",
       "      <td>0.000003</td>\n",
       "      <td>16.001115</td>\n",
       "      <td>15.945108</td>\n",
       "      <td>15.954887</td>\n",
       "      <td>15.917609</td>\n",
       "      <td>15.889623</td>\n",
       "      <td>15.849615</td>\n",
       "      <td>galaxySED/Exp.40E09.04Z.spec.gz</td>\n",
       "      <td>0.0</td>\n",
       "      <td>2.0</td>\n",
       "    </tr>\n",
       "    <tr>\n",
       "      <td>4</td>\n",
       "      <td>61949.847395</td>\n",
       "      <td>118.022925</td>\n",
       "      <td>0.040725</td>\n",
       "      <td>0.593290</td>\n",
       "      <td>160.205181</td>\n",
       "      <td>318.665928</td>\n",
       "      <td>0.608011</td>\n",
       "      <td>0.062039</td>\n",
       "      <td>0.052200</td>\n",
       "      <td>0.120958</td>\n",
       "      <td>...</td>\n",
       "      <td>0.000006</td>\n",
       "      <td>17.650420</td>\n",
       "      <td>17.583731</td>\n",
       "      <td>17.559094</td>\n",
       "      <td>17.545495</td>\n",
       "      <td>17.549512</td>\n",
       "      <td>17.496465</td>\n",
       "      <td>galaxySED/Exp.10E10.04Z.spec.gz</td>\n",
       "      <td>0.0</td>\n",
       "      <td>2.0</td>\n",
       "    </tr>\n",
       "  </tbody>\n",
       "</table>\n",
       "<p>5 rows × 49 columns</p>\n",
       "</div>"
      ],
      "text/plain": [
       "             t0       sigma     gamma         e     theta_e  theta_gamma  \\\n",
       "0  62307.945863  197.670149  0.128101  0.570391  132.165475   135.210348   \n",
       "1  62986.222880  270.972759  0.040137  0.785929  349.848750    76.941654   \n",
       "2  60175.070270  168.759862  0.145709  0.704465  246.352212   103.154255   \n",
       "3  59748.557028  132.459490  0.017375  0.598633   58.483556   133.326378   \n",
       "4  61949.847395  118.022925  0.040725  0.593290  160.205181   318.665928   \n",
       "\n",
       "         zs        zl       snx       sny  ...        x0  lensgal_magnorm_u  \\\n",
       "0  0.435736  0.152485 -0.136216  0.144903  ...  0.000015          18.038430   \n",
       "1  0.812597  0.106528  0.229110 -0.578431  ...  0.000003          17.736074   \n",
       "2  0.377906  0.036807  0.074938 -0.416329  ...  0.000019          14.632392   \n",
       "3  0.760426  0.034289  0.012960  0.362303  ...  0.000003          16.001115   \n",
       "4  0.608011  0.062039  0.052200  0.120958  ...  0.000006          17.650420   \n",
       "\n",
       "   lensgal_magnorm_g lensgal_magnorm_r  lensgal_magnorm_i  lensgal_magnorm_z  \\\n",
       "0          17.934849         17.876297          17.853722          17.861106   \n",
       "1          17.675464         17.672657          17.652261          17.663224   \n",
       "2          14.521858         14.451894          14.419520          14.379628   \n",
       "3          15.945108         15.954887          15.917609          15.889623   \n",
       "4          17.583731         17.559094          17.545495          17.549512   \n",
       "\n",
       "   lensgal_magnorm_y                        lensgal_sed  lens_av  lens_rv  \n",
       "0          17.841955   galaxySED/Inst.80E09.04Z.spec.gz      0.0      2.0  \n",
       "1          17.629555  galaxySED/Burst.10E10.04Z.spec.gz      0.0      2.0  \n",
       "2          14.347648     galaxySED/Exp.40E09.1Z.spec.gz      0.1      4.0  \n",
       "3          15.849615    galaxySED/Exp.40E09.04Z.spec.gz      0.0      2.0  \n",
       "4          17.496465    galaxySED/Exp.10E10.04Z.spec.gz      0.0      2.0  \n",
       "\n",
       "[5 rows x 49 columns]"
      ]
     },
     "execution_count": 24,
     "metadata": {},
     "output_type": "execute_result"
    }
   ],
   "source": [
    "sn_catalog_sys.head()"
   ]
  },
  {
   "cell_type": "markdown",
   "metadata": {},
   "source": [
    "### SN Population Comparison"
   ]
  },
  {
   "cell_type": "code",
   "execution_count": 25,
   "metadata": {},
   "outputs": [
    {
     "data": {
      "text/html": [
       "<div>\n",
       "<style scoped>\n",
       "    .dataframe tbody tr th:only-of-type {\n",
       "        vertical-align: middle;\n",
       "    }\n",
       "\n",
       "    .dataframe tbody tr th {\n",
       "        vertical-align: top;\n",
       "    }\n",
       "\n",
       "    .dataframe thead th {\n",
       "        text-align: right;\n",
       "    }\n",
       "</style>\n",
       "<table border=\"1\" class=\"dataframe\">\n",
       "  <thead>\n",
       "    <tr style=\"text-align: right;\">\n",
       "      <th></th>\n",
       "      <th>htmid_level_6</th>\n",
       "      <th>galaxy_id</th>\n",
       "      <th>c_in</th>\n",
       "      <th>mB</th>\n",
       "      <th>t0_in</th>\n",
       "      <th>x0_in</th>\n",
       "      <th>x1_in</th>\n",
       "      <th>z_in</th>\n",
       "      <th>snid_in</th>\n",
       "      <th>snra_in</th>\n",
       "      <th>sndec_in</th>\n",
       "    </tr>\n",
       "  </thead>\n",
       "  <tbody>\n",
       "    <tr>\n",
       "      <td>0</td>\n",
       "      <td>9021</td>\n",
       "      <td>10562502111</td>\n",
       "      <td>0.035201</td>\n",
       "      <td>18.516489</td>\n",
       "      <td>60772.368515</td>\n",
       "      <td>0.000617</td>\n",
       "      <td>1.477374</td>\n",
       "      <td>0.077278</td>\n",
       "      <td>MS_10199_0</td>\n",
       "      <td>66.115587</td>\n",
       "      <td>-40.866055</td>\n",
       "    </tr>\n",
       "    <tr>\n",
       "      <td>1</td>\n",
       "      <td>9023</td>\n",
       "      <td>10562500822</td>\n",
       "      <td>-0.086665</td>\n",
       "      <td>17.966773</td>\n",
       "      <td>63060.297448</td>\n",
       "      <td>0.001028</td>\n",
       "      <td>0.576378</td>\n",
       "      <td>0.073256</td>\n",
       "      <td>MS_10199_1</td>\n",
       "      <td>66.662435</td>\n",
       "      <td>-42.042877</td>\n",
       "    </tr>\n",
       "    <tr>\n",
       "      <td>2</td>\n",
       "      <td>9021</td>\n",
       "      <td>10562500735</td>\n",
       "      <td>0.037553</td>\n",
       "      <td>19.078334</td>\n",
       "      <td>62832.166508</td>\n",
       "      <td>0.000370</td>\n",
       "      <td>-0.177457</td>\n",
       "      <td>0.068469</td>\n",
       "      <td>MS_10199_2</td>\n",
       "      <td>65.212146</td>\n",
       "      <td>-41.416473</td>\n",
       "    </tr>\n",
       "    <tr>\n",
       "      <td>3</td>\n",
       "      <td>9021</td>\n",
       "      <td>10562502246</td>\n",
       "      <td>0.076715</td>\n",
       "      <td>19.192019</td>\n",
       "      <td>61400.008116</td>\n",
       "      <td>0.000335</td>\n",
       "      <td>-1.344205</td>\n",
       "      <td>0.080189</td>\n",
       "      <td>MS_10199_3</td>\n",
       "      <td>65.469824</td>\n",
       "      <td>-41.109646</td>\n",
       "    </tr>\n",
       "    <tr>\n",
       "      <td>4</td>\n",
       "      <td>9023</td>\n",
       "      <td>10562504918</td>\n",
       "      <td>-0.012653</td>\n",
       "      <td>19.388848</td>\n",
       "      <td>61342.657248</td>\n",
       "      <td>0.000278</td>\n",
       "      <td>0.474204</td>\n",
       "      <td>0.115499</td>\n",
       "      <td>MS_10199_5</td>\n",
       "      <td>65.986211</td>\n",
       "      <td>-42.086708</td>\n",
       "    </tr>\n",
       "  </tbody>\n",
       "</table>\n",
       "</div>"
      ],
      "text/plain": [
       "   htmid_level_6    galaxy_id      c_in         mB         t0_in     x0_in  \\\n",
       "0           9021  10562502111  0.035201  18.516489  60772.368515  0.000617   \n",
       "1           9023  10562500822 -0.086665  17.966773  63060.297448  0.001028   \n",
       "2           9021  10562500735  0.037553  19.078334  62832.166508  0.000370   \n",
       "3           9021  10562502246  0.076715  19.192019  61400.008116  0.000335   \n",
       "4           9023  10562504918 -0.012653  19.388848  61342.657248  0.000278   \n",
       "\n",
       "      x1_in      z_in     snid_in    snra_in   sndec_in  \n",
       "0  1.477374  0.077278  MS_10199_0  66.115587 -40.866055  \n",
       "1  0.576378  0.073256  MS_10199_1  66.662435 -42.042877  \n",
       "2 -0.177457  0.068469  MS_10199_2  65.212146 -41.416473  \n",
       "3 -1.344205  0.080189  MS_10199_3  65.469824 -41.109646  \n",
       "4  0.474204  0.115499  MS_10199_5  65.986211 -42.086708  "
      ]
     },
     "execution_count": 25,
     "metadata": {},
     "output_type": "execute_result"
    }
   ],
   "source": [
    "unlensed_sne_df.head()"
   ]
  },
  {
   "cell_type": "code",
   "execution_count": 26,
   "metadata": {},
   "outputs": [
    {
     "data": {
      "text/html": [
       "<div>\n",
       "<style scoped>\n",
       "    .dataframe tbody tr th:only-of-type {\n",
       "        vertical-align: middle;\n",
       "    }\n",
       "\n",
       "    .dataframe tbody tr th {\n",
       "        vertical-align: top;\n",
       "    }\n",
       "\n",
       "    .dataframe thead th {\n",
       "        text-align: right;\n",
       "    }\n",
       "</style>\n",
       "<table border=\"1\" class=\"dataframe\">\n",
       "  <thead>\n",
       "    <tr style=\"text-align: right;\">\n",
       "      <th></th>\n",
       "      <th>index</th>\n",
       "      <th>unique_id</th>\n",
       "      <th>gal_unq_id</th>\n",
       "      <th>ra</th>\n",
       "      <th>dec</th>\n",
       "      <th>t0</th>\n",
       "      <th>t_delay</th>\n",
       "      <th>MB</th>\n",
       "      <th>magnification</th>\n",
       "      <th>x0</th>\n",
       "      <th>x1</th>\n",
       "      <th>c</th>\n",
       "      <th>host_type</th>\n",
       "      <th>redshift</th>\n",
       "      <th>dc2_sys_id</th>\n",
       "      <th>lens_cat_sys_id</th>\n",
       "      <th>image_number</th>\n",
       "    </tr>\n",
       "  </thead>\n",
       "  <tbody>\n",
       "    <tr>\n",
       "      <td>0</td>\n",
       "      <td>0</td>\n",
       "      <td>1687501546316000</td>\n",
       "      <td>1687501546316000</td>\n",
       "      <td>52.848251</td>\n",
       "      <td>-27.656524</td>\n",
       "      <td>60733.028599</td>\n",
       "      <td>0.000000</td>\n",
       "      <td>-19.241234</td>\n",
       "      <td>1.511290</td>\n",
       "      <td>0.000111</td>\n",
       "      <td>1.0</td>\n",
       "      <td>0.0</td>\n",
       "      <td>kinney-elliptical</td>\n",
       "      <td>0.175884</td>\n",
       "      <td>2000</td>\n",
       "      <td>4068871</td>\n",
       "      <td>0</td>\n",
       "    </tr>\n",
       "    <tr>\n",
       "      <td>1</td>\n",
       "      <td>1</td>\n",
       "      <td>1687501546416001</td>\n",
       "      <td>1687501546416001</td>\n",
       "      <td>52.848257</td>\n",
       "      <td>-27.656530</td>\n",
       "      <td>60733.028599</td>\n",
       "      <td>10.692351</td>\n",
       "      <td>-19.241234</td>\n",
       "      <td>3.003103</td>\n",
       "      <td>0.000111</td>\n",
       "      <td>1.0</td>\n",
       "      <td>0.0</td>\n",
       "      <td>kinney-elliptical</td>\n",
       "      <td>0.175884</td>\n",
       "      <td>2000</td>\n",
       "      <td>4068871</td>\n",
       "      <td>1</td>\n",
       "    </tr>\n",
       "    <tr>\n",
       "      <td>2</td>\n",
       "      <td>2</td>\n",
       "      <td>1687501546516002</td>\n",
       "      <td>1687501546516002</td>\n",
       "      <td>52.848257</td>\n",
       "      <td>-27.656528</td>\n",
       "      <td>60733.028599</td>\n",
       "      <td>11.123024</td>\n",
       "      <td>-19.241234</td>\n",
       "      <td>-1.411856</td>\n",
       "      <td>0.000111</td>\n",
       "      <td>1.0</td>\n",
       "      <td>0.0</td>\n",
       "      <td>kinney-elliptical</td>\n",
       "      <td>0.175884</td>\n",
       "      <td>2000</td>\n",
       "      <td>4068871</td>\n",
       "      <td>2</td>\n",
       "    </tr>\n",
       "    <tr>\n",
       "      <td>3</td>\n",
       "      <td>3</td>\n",
       "      <td>1687501546616003</td>\n",
       "      <td>1687501546616003</td>\n",
       "      <td>52.848252</td>\n",
       "      <td>-27.656529</td>\n",
       "      <td>60733.028599</td>\n",
       "      <td>13.190929</td>\n",
       "      <td>-19.241234</td>\n",
       "      <td>-0.561527</td>\n",
       "      <td>0.000111</td>\n",
       "      <td>1.0</td>\n",
       "      <td>0.0</td>\n",
       "      <td>kinney-elliptical</td>\n",
       "      <td>0.175884</td>\n",
       "      <td>2000</td>\n",
       "      <td>4068871</td>\n",
       "      <td>3</td>\n",
       "    </tr>\n",
       "    <tr>\n",
       "      <td>4</td>\n",
       "      <td>4</td>\n",
       "      <td>1687502575216008</td>\n",
       "      <td>1687502575216008</td>\n",
       "      <td>52.637745</td>\n",
       "      <td>-28.040920</td>\n",
       "      <td>60531.982206</td>\n",
       "      <td>0.000000</td>\n",
       "      <td>-19.120594</td>\n",
       "      <td>2.261117</td>\n",
       "      <td>0.000086</td>\n",
       "      <td>1.0</td>\n",
       "      <td>0.0</td>\n",
       "      <td>kinney-starburst</td>\n",
       "      <td>0.188217</td>\n",
       "      <td>2001</td>\n",
       "      <td>6724378</td>\n",
       "      <td>0</td>\n",
       "    </tr>\n",
       "  </tbody>\n",
       "</table>\n",
       "</div>"
      ],
      "text/plain": [
       "   index         unique_id        gal_unq_id         ra        dec  \\\n",
       "0      0  1687501546316000  1687501546316000  52.848251 -27.656524   \n",
       "1      1  1687501546416001  1687501546416001  52.848257 -27.656530   \n",
       "2      2  1687501546516002  1687501546516002  52.848257 -27.656528   \n",
       "3      3  1687501546616003  1687501546616003  52.848252 -27.656529   \n",
       "4      4  1687502575216008  1687502575216008  52.637745 -28.040920   \n",
       "\n",
       "             t0    t_delay         MB  magnification        x0   x1    c  \\\n",
       "0  60733.028599   0.000000 -19.241234       1.511290  0.000111  1.0  0.0   \n",
       "1  60733.028599  10.692351 -19.241234       3.003103  0.000111  1.0  0.0   \n",
       "2  60733.028599  11.123024 -19.241234      -1.411856  0.000111  1.0  0.0   \n",
       "3  60733.028599  13.190929 -19.241234      -0.561527  0.000111  1.0  0.0   \n",
       "4  60531.982206   0.000000 -19.120594       2.261117  0.000086  1.0  0.0   \n",
       "\n",
       "           host_type  redshift  dc2_sys_id  lens_cat_sys_id  image_number  \n",
       "0  kinney-elliptical  0.175884        2000          4068871             0  \n",
       "1  kinney-elliptical  0.175884        2000          4068871             1  \n",
       "2  kinney-elliptical  0.175884        2000          4068871             2  \n",
       "3  kinney-elliptical  0.175884        2000          4068871             3  \n",
       "4   kinney-starburst  0.188217        2001          6724378             0  "
      ]
     },
     "execution_count": 26,
     "metadata": {},
     "output_type": "execute_result"
    }
   ],
   "source": [
    "sprinkled_sne_df.head()"
   ]
  },
  {
   "cell_type": "markdown",
   "metadata": {},
   "source": [
    "## Checking distribution of SN parameters in the next few blocks"
   ]
  },
  {
   "cell_type": "markdown",
   "metadata": {},
   "source": [
    "#### $x_0$ distribution"
   ]
  },
  {
   "cell_type": "code",
   "execution_count": 27,
   "metadata": {},
   "outputs": [
    {
     "data": {
      "text/plain": [
       "<matplotlib.legend.Legend at 0x2aaae22e8510>"
      ]
     },
     "execution_count": 27,
     "metadata": {},
     "output_type": "execute_result"
    },
    {
     "data": {
      "image/png": "[encoded data removed]",
      "text/plain": [
       "<Figure size 576x432 with 1 Axes>"
      ]
     },
     "metadata": {
      "needs_background": "light"
     },
     "output_type": "display_data"
    }
   ],
   "source": [
    "fig        = plt.figure(figsize=(8, 6))\n",
    "n, bins, _ = plt.hist(unlensed_sne_df['x0_in'], bins=25, range=(0.0, 0.00015), lw=3, histtype='step', density=True, label='Unlensed')\n",
    "_          = plt.hist(sprinkled_sne_df['x0'], bins=bins, lw=3, histtype='step', density=True, label='Sprinkled')\n",
    "plt.xlabel('SALT $X_0$ parameter', fontsize=15)\n",
    "plt.ylabel('Population Density',   fontsize=15)\n",
    "plt.legend(loc='best')"
   ]
  },
  {
   "cell_type": "markdown",
   "metadata": {},
   "source": [
    "### $x_1$ distribution"
   ]
  },
  {
   "cell_type": "code",
   "execution_count": 28,
   "metadata": {},
   "outputs": [
    {
     "data": {
      "text/plain": [
       "<matplotlib.legend.Legend at 0x2aaae3e45b50>"
      ]
     },
     "execution_count": 28,
     "metadata": {},
     "output_type": "execute_result"
    },
    {
     "data": {
      "image/png": "[encoded data removed]",
      "text/plain": [
       "<Figure size 576x432 with 1 Axes>"
      ]
     },
     "metadata": {
      "needs_background": "light"
     },
     "output_type": "display_data"
    }
   ],
   "source": [
    "fig        = plt.figure(figsize=(8, 6))\n",
    "n, bins, _ = plt.hist(unlensed_sne_df['x1_in'], bins=25, lw=3, histtype='step', density=True, label='Unlensed')\n",
    "_          = plt.hist(sprinkled_sne_df['x1'], bins=bins, lw=3, histtype='step', density=True, label='Sprinkled')\n",
    "plt.xlabel('SALT $X_1$ parameter', fontsize=15)\n",
    "plt.ylabel('Population Density',   fontsize=15)\n",
    "plt.legend(loc='best')"
   ]
  },
  {
   "cell_type": "markdown",
   "metadata": {},
   "source": [
    "### $c$ distribution"
   ]
  },
  {
   "cell_type": "code",
   "execution_count": 29,
   "metadata": {},
   "outputs": [
    {
     "data": {
      "text/plain": [
       "<matplotlib.legend.Legend at 0x2aaae3c9e710>"
      ]
     },
     "execution_count": 29,
     "metadata": {},
     "output_type": "execute_result"
    },
    {
     "data": {
      "image/png": "[encoded data removed]",
      "text/plain": [
       "<Figure size 576x432 with 1 Axes>"
      ]
     },
     "metadata": {
      "needs_background": "light"
     },
     "output_type": "display_data"
    }
   ],
   "source": [
    "fig        = plt.figure(figsize=(8, 6))\n",
    "n, bins, _ = plt.hist(unlensed_sne_df['c_in'], bins=25,  lw=3, histtype='step', density=True, label='Unlensed')\n",
    "_          = plt.hist(sprinkled_sne_df['c'],   bins=bins,lw=3, histtype='step', density=True, label='Sprinkled')\n",
    "plt.xlabel('SALT $c$ parameter', fontsize=15)\n",
    "plt.ylabel('Population Density',   fontsize=15)\n",
    "plt.legend(loc='best')"
   ]
  },
  {
   "cell_type": "markdown",
   "metadata": {},
   "source": [
    "### Comparing $M_B$ of SN catalog with simulated SN"
   ]
  },
  {
   "cell_type": "code",
   "execution_count": 30,
   "metadata": {},
   "outputs": [
    {
     "data": {
      "text/plain": [
       "<matplotlib.legend.Legend at 0x2aaae3c24650>"
      ]
     },
     "execution_count": 30,
     "metadata": {},
     "output_type": "execute_result"
    },
    {
     "data": {
      "image/png": "[encoded data removed]",
      "text/plain": [
       "<Figure size 576x432 with 1 Axes>"
      ]
     },
     "metadata": {
      "needs_background": "light"
     },
     "output_type": "display_data"
    }
   ],
   "source": [
    "fig        = plt.figure(figsize=(8, 6))\n",
    "n, bins, _ = plt.hist(sprinkled_sne_df['MB'], bins=25,  lw=3, histtype='step', density=True, label='SN Catalog')\n",
    "_          = plt.hist(sn_catalog_sys['MB'],   bins=bins,lw=3, histtype='step', density=True, label='Sprinkled')\n",
    "#_          = plt.hist(unlensed_sne_df['mB'],  bins=bins,lw=3, histtype='step', density=True, label='Unlensed')\n",
    "plt.xlabel('$M_B$', fontsize=15)\n",
    "plt.ylabel('Population Density',   fontsize=15)\n",
    "plt.legend(loc='best')"
   ]
  },
  {
   "cell_type": "markdown",
   "metadata": {},
   "source": [
    "### All the SNe have $x_1$ = 1 and $c=0$"
   ]
  },
  {
   "cell_type": "code",
   "execution_count": 31,
   "metadata": {},
   "outputs": [
    {
     "data": {
      "text/plain": [
       "(array([], dtype=int64),)"
      ]
     },
     "execution_count": 31,
     "metadata": {},
     "output_type": "execute_result"
    }
   ],
   "source": [
    "np.where(sprinkled_sne_df['c'] != 0)"
   ]
  },
  {
   "cell_type": "code",
   "execution_count": 32,
   "metadata": {},
   "outputs": [
    {
     "data": {
      "text/plain": [
       "(array([], dtype=int64),)"
      ]
     },
     "execution_count": 32,
     "metadata": {},
     "output_type": "execute_result"
    }
   ],
   "source": [
    "np.where(sprinkled_sne_df['x1'] != 1)"
   ]
  },
  {
   "cell_type": "markdown",
   "metadata": {},
   "source": [
    "### Check distribution of angular separations, magnification, time delay"
   ]
  },
  {
   "cell_type": "code",
   "execution_count": null,
   "metadata": {},
   "outputs": [],
   "source": [
    "from astropy import units as u\n",
    "from astropy.coordinates import SkyCoord"
   ]
  },
  {
   "cell_type": "code",
   "execution_count": 39,
   "metadata": {},
   "outputs": [
    {
     "data": {
      "text/html": [
       "<div>\n",
       "<style scoped>\n",
       "    .dataframe tbody tr th:only-of-type {\n",
       "        vertical-align: middle;\n",
       "    }\n",
       "\n",
       "    .dataframe tbody tr th {\n",
       "        vertical-align: top;\n",
       "    }\n",
       "\n",
       "    .dataframe thead th {\n",
       "        text-align: right;\n",
       "    }\n",
       "</style>\n",
       "<table border=\"1\" class=\"dataframe\">\n",
       "  <thead>\n",
       "    <tr style=\"text-align: right;\">\n",
       "      <th></th>\n",
       "      <th>index</th>\n",
       "      <th>unique_id</th>\n",
       "      <th>gal_unq_id</th>\n",
       "      <th>ra</th>\n",
       "      <th>dec</th>\n",
       "      <th>t0</th>\n",
       "      <th>t_delay</th>\n",
       "      <th>MB</th>\n",
       "      <th>magnification</th>\n",
       "      <th>x0</th>\n",
       "      <th>x1</th>\n",
       "      <th>c</th>\n",
       "      <th>host_type</th>\n",
       "      <th>redshift</th>\n",
       "      <th>dc2_sys_id</th>\n",
       "      <th>lens_cat_sys_id</th>\n",
       "      <th>image_number</th>\n",
       "    </tr>\n",
       "  </thead>\n",
       "  <tbody>\n",
       "    <tr>\n",
       "      <td>0</td>\n",
       "      <td>0</td>\n",
       "      <td>1687501546316000</td>\n",
       "      <td>1687501546316000</td>\n",
       "      <td>52.848251</td>\n",
       "      <td>-27.656524</td>\n",
       "      <td>60733.028599</td>\n",
       "      <td>0.000000</td>\n",
       "      <td>-19.241234</td>\n",
       "      <td>1.511290</td>\n",
       "      <td>0.000111</td>\n",
       "      <td>1.0</td>\n",
       "      <td>0.0</td>\n",
       "      <td>kinney-elliptical</td>\n",
       "      <td>0.175884</td>\n",
       "      <td>2000</td>\n",
       "      <td>4068871</td>\n",
       "      <td>0</td>\n",
       "    </tr>\n",
       "    <tr>\n",
       "      <td>1</td>\n",
       "      <td>1</td>\n",
       "      <td>1687501546416001</td>\n",
       "      <td>1687501546416001</td>\n",
       "      <td>52.848257</td>\n",
       "      <td>-27.656530</td>\n",
       "      <td>60733.028599</td>\n",
       "      <td>10.692351</td>\n",
       "      <td>-19.241234</td>\n",
       "      <td>3.003103</td>\n",
       "      <td>0.000111</td>\n",
       "      <td>1.0</td>\n",
       "      <td>0.0</td>\n",
       "      <td>kinney-elliptical</td>\n",
       "      <td>0.175884</td>\n",
       "      <td>2000</td>\n",
       "      <td>4068871</td>\n",
       "      <td>1</td>\n",
       "    </tr>\n",
       "    <tr>\n",
       "      <td>2</td>\n",
       "      <td>2</td>\n",
       "      <td>1687501546516002</td>\n",
       "      <td>1687501546516002</td>\n",
       "      <td>52.848257</td>\n",
       "      <td>-27.656528</td>\n",
       "      <td>60733.028599</td>\n",
       "      <td>11.123024</td>\n",
       "      <td>-19.241234</td>\n",
       "      <td>-1.411856</td>\n",
       "      <td>0.000111</td>\n",
       "      <td>1.0</td>\n",
       "      <td>0.0</td>\n",
       "      <td>kinney-elliptical</td>\n",
       "      <td>0.175884</td>\n",
       "      <td>2000</td>\n",
       "      <td>4068871</td>\n",
       "      <td>2</td>\n",
       "    </tr>\n",
       "    <tr>\n",
       "      <td>3</td>\n",
       "      <td>3</td>\n",
       "      <td>1687501546616003</td>\n",
       "      <td>1687501546616003</td>\n",
       "      <td>52.848252</td>\n",
       "      <td>-27.656529</td>\n",
       "      <td>60733.028599</td>\n",
       "      <td>13.190929</td>\n",
       "      <td>-19.241234</td>\n",
       "      <td>-0.561527</td>\n",
       "      <td>0.000111</td>\n",
       "      <td>1.0</td>\n",
       "      <td>0.0</td>\n",
       "      <td>kinney-elliptical</td>\n",
       "      <td>0.175884</td>\n",
       "      <td>2000</td>\n",
       "      <td>4068871</td>\n",
       "      <td>3</td>\n",
       "    </tr>\n",
       "    <tr>\n",
       "      <td>4</td>\n",
       "      <td>4</td>\n",
       "      <td>1687502575216008</td>\n",
       "      <td>1687502575216008</td>\n",
       "      <td>52.637745</td>\n",
       "      <td>-28.040920</td>\n",
       "      <td>60531.982206</td>\n",
       "      <td>0.000000</td>\n",
       "      <td>-19.120594</td>\n",
       "      <td>2.261117</td>\n",
       "      <td>0.000086</td>\n",
       "      <td>1.0</td>\n",
       "      <td>0.0</td>\n",
       "      <td>kinney-starburst</td>\n",
       "      <td>0.188217</td>\n",
       "      <td>2001</td>\n",
       "      <td>6724378</td>\n",
       "      <td>0</td>\n",
       "    </tr>\n",
       "  </tbody>\n",
       "</table>\n",
       "</div>"
      ],
      "text/plain": [
       "   index         unique_id        gal_unq_id         ra        dec  \\\n",
       "0      0  1687501546316000  1687501546316000  52.848251 -27.656524   \n",
       "1      1  1687501546416001  1687501546416001  52.848257 -27.656530   \n",
       "2      2  1687501546516002  1687501546516002  52.848257 -27.656528   \n",
       "3      3  1687501546616003  1687501546616003  52.848252 -27.656529   \n",
       "4      4  1687502575216008  1687502575216008  52.637745 -28.040920   \n",
       "\n",
       "             t0    t_delay         MB  magnification        x0   x1    c  \\\n",
       "0  60733.028599   0.000000 -19.241234       1.511290  0.000111  1.0  0.0   \n",
       "1  60733.028599  10.692351 -19.241234       3.003103  0.000111  1.0  0.0   \n",
       "2  60733.028599  11.123024 -19.241234      -1.411856  0.000111  1.0  0.0   \n",
       "3  60733.028599  13.190929 -19.241234      -0.561527  0.000111  1.0  0.0   \n",
       "4  60531.982206   0.000000 -19.120594       2.261117  0.000086  1.0  0.0   \n",
       "\n",
       "           host_type  redshift  dc2_sys_id  lens_cat_sys_id  image_number  \n",
       "0  kinney-elliptical  0.175884        2000          4068871             0  \n",
       "1  kinney-elliptical  0.175884        2000          4068871             1  \n",
       "2  kinney-elliptical  0.175884        2000          4068871             2  \n",
       "3  kinney-elliptical  0.175884        2000          4068871             3  \n",
       "4   kinney-starburst  0.188217        2001          6724378             0  "
      ]
     },
     "execution_count": 39,
     "metadata": {},
     "output_type": "execute_result"
    }
   ],
   "source": [
    "sprinkled_sne_df.head()"
   ]
  },
  {
   "cell_type": "code",
   "execution_count": null,
   "metadata": {},
   "outputs": [],
   "source": [
    "sysidlist = np.unique(sprinkled_sne_df['lens_cat_sys_id'])\n",
    "indices_by_system = np.array([np.where(sprinkled_sne_df['lens_cat_sys_id']==sysid)[0] for sysid in sysidlist])"
   ]
  },
  {
   "cell_type": "code",
   "execution_count": null,
   "metadata": {},
   "outputs": [],
   "source": []
  },
  {
   "cell_type": "code",
   "execution_count": 78,
   "metadata": {},
   "outputs": [],
   "source": [
    "lensedSN_coordinates = SkyCoord(ra=sprinkled_sne_df['ra']*u.degree, dec=sprinkled_sne_df['dec']*u.degree, frame='icrs')\n",
    "lensedSN_sep_arcsec = []\n",
    "for idxlist in indices_by_system:\n",
    "    coords_this_sys = lensedSN_coordinates[idxlist]\n",
    "    separations_this_sys = coords_this_sys[0].separation(coords_this_sys).to(u.arcsecond)\n",
    "    lensedSN_sep_arcsec += (separations_this_sys.value).tolist()\n",
    "lensedSN_sep_arcsec = np.array(lensedSN_sep_arcsec).flatten()"
   ]
  },
  {
   "cell_type": "code",
   "execution_count": 79,
   "metadata": {},
   "outputs": [
    {
     "data": {
      "text/plain": [
       "<matplotlib.legend.Legend at 0x2aaaea8d4190>"
      ]
     },
     "execution_count": 79,
     "metadata": {},
     "output_type": "execute_result"
    },
    {
     "data": {
      "image/png": "[encoded data removed]",
      "text/plain": [
       "<Figure size 576x432 with 1 Axes>"
      ]
     },
     "metadata": {
      "needs_background": "light"
     },
     "output_type": "display_data"
    }
   ],
   "source": [
    "fig        = plt.figure(figsize=(8, 6))\n",
    "n, bins, _ = plt.hist(lensedSN_sep_arcsec, bins=25,  lw=3, histtype='step', density=True, label='Sprinkled')\n",
    "plt.xlabel('Image Separation', fontsize=15)\n",
    "plt.ylabel('Population Density',   fontsize=15)\n",
    "plt.legend(loc='best')"
   ]
  },
  {
   "cell_type": "code",
   "execution_count": 89,
   "metadata": {},
   "outputs": [
    {
     "data": {
      "text/plain": [
       "<matplotlib.legend.Legend at 0x2aaaeb77a9d0>"
      ]
     },
     "execution_count": 89,
     "metadata": {},
     "output_type": "execute_result"
    },
    {
     "data": {
      "image/png": "[encoded data removed]",
      "text/plain": [
       "<Figure size 576x432 with 1 Axes>"
      ]
     },
     "metadata": {
      "needs_background": "light"
     },
     "output_type": "display_data"
    }
   ],
   "source": [
    "fig        = plt.figure(figsize=(8, 6))\n",
    "n, bins, _ = plt.hist(sprinkled_sne_df['magnification'], bins=np.arange(-30,30,0.5),  lw=3, histtype='step', density=True, label='Sprinkled')\n",
    "plt.xlabel('magnification', fontsize=15)\n",
    "plt.ylabel('Population Density',   fontsize=15)\n",
    "plt.legend(loc='best')"
   ]
  },
  {
   "cell_type": "code",
   "execution_count": 91,
   "metadata": {},
   "outputs": [
    {
     "data": {
      "text/plain": [
       "<matplotlib.legend.Legend at 0x2aaaea33d490>"
      ]
     },
     "execution_count": 91,
     "metadata": {},
     "output_type": "execute_result"
    },
    {
     "data": {
      "image/png": "[encoded data removed]",
      "text/plain": [
       "<Figure size 576x432 with 1 Axes>"
      ]
     },
     "metadata": {
      "needs_background": "light"
     },
     "output_type": "display_data"
    }
   ],
   "source": [
    "fig        = plt.figure(figsize=(8, 6))\n",
    "n, bins, _ = plt.hist(sprinkled_sne_df['t_delay'], bins=25,  lw=3, histtype='step', density=True, label='Sprinkled')\n",
    "plt.xlabel('time delay', fontsize=15)\n",
    "plt.ylabel('Population Density',   fontsize=15)\n",
    "plt.legend(loc='best')"
   ]
  },
  {
   "cell_type": "code",
   "execution_count": 97,
   "metadata": {},
   "outputs": [
    {
     "data": {
      "text/plain": [
       "(0.03, 1000)"
      ]
     },
     "execution_count": 97,
     "metadata": {},
     "output_type": "execute_result"
    },
    {
     "data": {
      "image/png": "[encoded data removed]",
      "text/plain": [
       "<Figure size 576x432 with 1 Axes>"
      ]
     },
     "metadata": {
      "needs_background": "light"
     },
     "output_type": "display_data"
    }
   ],
   "source": [
    "fig        = plt.figure(figsize=(8, 6))\n",
    "#plt.plot(lensedSN_sep_arcsec, sprinkled_sne_df['magnification'],  ls=' ', marker='o', alpha=0.3, label='Sprinkled')\n",
    "plt.loglog(sprinkled_sne_df['t_delay'], np.abs(sprinkled_sne_df['magnification']),  ls=' ', marker='o', alpha=0.3, label='Sprinkled')\n",
    "\n",
    "plt.xlabel('Time delay', fontsize=15)\n",
    "plt.ylabel('Magnification',   fontsize=15)\n",
    "plt.legend(loc='best')\n",
    "\n",
    "ax = plt.gca()\n",
    "ax.set_xlim(3e-4, 1000)\n",
    "ax.set_ylim(0.03, 1000)"
   ]
  },
  {
   "cell_type": "markdown",
   "metadata": {},
   "source": [
    "### Matching time-delayed SNe light-curves with the original light-curves after phase shift and de-magnification"
   ]
  },
  {
   "cell_type": "code",
   "execution_count": null,
   "metadata": {},
   "outputs": [],
   "source": [
    "from lsst.sims.catUtils.supernovae    import SNObject\n",
    "from lsst.sims.photUtils.BandpassDict import BandpassDict\n",
    "\n",
    "LSST_BPass = BandpassDict.loadTotalBandpassesFromFiles()\n",
    "\n",
    "\n",
    "def Get_SN_Flux(ra , dec , redshift, t0, x0, x1, c, StartTime, EndTime, band, n):\n",
    "    '''\n",
    "    StartTime: could be t0-5 days (depending on redshift)\n",
    "    EndTime: could be t0+40 days\n",
    "    band: LSST filter\n",
    "    n: number of points wanted for the time array\n",
    "    '''\n",
    "    \n",
    "    \n",
    "    # Setting up the supernova with the light-curve parameters from Sprinkled catalog\n",
    "    sn_mod = SNObject(ra = ra, dec = dec)\n",
    "    \n",
    "    sn_mod.set(z  = redshift,   \n",
    "               t0 = t0, \n",
    "               x0 = x0, \n",
    "               x1 = x1, \n",
    "               c  = c)\n",
    "\n",
    "    # create a time array\n",
    "    times = np.arange(StartTime, EndTime, n)\n",
    "    \n",
    "    # get fluxes\n",
    "    for mjd in times:\n",
    "        flux    = sn_mod.catsimBandFlux(mjd, LSST_BPass[band])\n",
    "        mag     = sn_mod.catsimBandMag(LSST_BPass[band], mjd, flux)\n",
    "        \n",
    "    return flux, mag\n",
    "    \n",
    "\n",
    "   \n",
    "SN_Example_flux, SN_Example_mag = Get_SN_Flux(sprinkled_sne_df['ra'][0] , \n",
    "                                             sprinkled_sne_df['dec'][0] , \n",
    "                                             sprinkled_sne_df['redshift'][0], \n",
    "                                             sprinkled_sne_df['t0'][0], \n",
    "                                             sprinkled_sne_df['x0'][0], \n",
    "                                             sprinkled_sne_df['x1'][0], \n",
    "                                             sprinkled_sne_df['c'][0], \n",
    "                                             sprinkled_sne_df['t0'][0]-5, \n",
    "                                             sprinkled_sne_df['t0'][0]+40, \n",
    "                                             'r', 10)\n",
    "\n",
    "'''\n",
    "# Test\n",
    "\n",
    "# Setting up the supernova with the light-curve parameters from Sprinkled catalog\n",
    "sn_mod = SNObject(ra = sprinkled_sne_df['ra'], dec = sprinkled_sne_df['dec'])\n",
    "\n",
    "sn_mod.set(z  = sprinkled_sne_df['redshift'],   \n",
    "           t0 = sprinkled_sne_df['t0'], \n",
    "           x1 = sprinkled_sne_df['x1'], \n",
    "           c  = sprinkled_sne_df['c'], \n",
    "           x0 = sprinkled_sne_df['x0'])\n",
    "\n",
    "mask = (time_delay!=0.0)\n",
    "\n",
    "times = np.arange(prinkled_sne_df[t0][mask][0]-5, prinkled_sne_df[t0][mask][0]s+40)\n",
    "filt  = 'r'\n",
    "\n",
    "    \n",
    "for mjd in times:\n",
    "    flux    = sn_mod.catsimBandFlux(mjd, LSST_BPass[filt])\n",
    "    mag     = sn_mod.catsimBandMag(LSST_BPass[filt], mjd, flux)\n",
    "    #flux_er = sn_mod.catsimBandFluxError(mjd, LSST_BPass[filt], m5, flux)\n",
    "    #mag_er  = sn_mod.catsimBandMagError(mjd,  LSST_BPass[filt], m5, magnitude=mag)\n",
    "'''"
   ]
  }
 ],
 "metadata": {
  "kernelspec": {
   "display_name": "Python 3",
   "language": "python",
   "name": "python3"
  },
  "language_info": {
   "codemirror_mode": {
    "name": "ipython",
    "version": 3
   },
   "file_extension": ".py",
   "mimetype": "text/x-python",
   "name": "python",
   "nbconvert_exporter": "python",
   "pygments_lexer": "ipython3",
   "version": "3.7.4"
  }
 },
 "nbformat": 4,
 "nbformat_minor": 4
}
